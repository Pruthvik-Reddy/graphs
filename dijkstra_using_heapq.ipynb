{
  "nbformat": 4,
  "nbformat_minor": 0,
  "metadata": {
    "colab": {
      "name": "dijkstra_using_heapq.ipynb",
      "provenance": [],
      "authorship_tag": "ABX9TyOQ+NIN3j4HZ+XLidxgB2dc",
      "include_colab_link": true
    },
    "kernelspec": {
      "name": "python3",
      "display_name": "Python 3"
    }
  },
  "cells": [
    {
      "cell_type": "markdown",
      "metadata": {
        "id": "view-in-github",
        "colab_type": "text"
      },
      "source": [
        "<a href=\"https://colab.research.google.com/github/Pruthvik-Reddy/graphs/blob/master/dijkstra_using_heapq.ipynb\" target=\"_parent\"><img src=\"https://colab.research.google.com/assets/colab-badge.svg\" alt=\"Open In Colab\"/></a>"
      ]
    },
    {
      "cell_type": "code",
      "metadata": {
        "id": "6SmpoouoD6x7",
        "colab_type": "code",
        "colab": {}
      },
      "source": [
        "from heapq import heapify,heappush,heappop\n",
        "from collections import defaultdict\n",
        "class Graph:\n",
        "  def __init__(self,v):\n",
        "    self.num_vertices=v\n",
        "    self.graph=defaultdict(dict)\n",
        "  def add_edge(self,source,destination,weight):\n",
        "    self.graph[source][destination]=weight\n",
        "\n",
        "    #note: if if its bidirectional,add the following line also by removing comment\n",
        "    #self.graph[destination][source]=weight\n",
        "  def dijkstra(self,source):\n",
        "    heap_arr=[]\n",
        "    heappush(heap_arr,(0,source))\n",
        "    distance={}\n",
        "    parent={}\n",
        "    while(len(heap_arr)>0):\n",
        "      curr_weight,curr_vertex=heappop(heap_arr)\n",
        "      #it is important to make sure that the vertex is not already in distance as the graph cannot contain negative weights and hence its\n",
        "      #impossible for it to have a lesser distance\n",
        "      if curr_vertex not in distance:\n",
        "        distance[curr_vertex]=curr_weight\n",
        "        for weight,neighbour in self.graph[curr_vertex].items():\n",
        "          new_distance=distance[curr_vertex]+weight\n",
        "          heappush(heap_arr,(new_distance,neighbour))\n",
        "    return max(distance.values())\n",
        "        \n",
        "\n",
        "\n",
        "\n",
        "\n",
        "\n",
        "     "
      ],
      "execution_count": 3,
      "outputs": []
    },
    {
      "cell_type": "code",
      "metadata": {
        "id": "yErqhImBEF0x",
        "colab_type": "code",
        "colab": {
          "base_uri": "https://localhost:8080/",
          "height": 34
        },
        "outputId": "513c7f0e-9c66-4cf6-ac64-5766734c105b"
      },
      "source": [
        "g=Graph(1)\n",
        "g.add_edge(1,2,5)\n",
        "g.add_edge(2,3,2)\n",
        "g.add_edge(1,4,9)\n",
        "g.add_edge(1,5,3)\n",
        "g.add_edge(5,6,2)\n",
        "g.add_edge(6,4,2)\n",
        "g.add_edge(3,4,3)\n",
        "print(g.dijkstra(1))"
      ],
      "execution_count": 4,
      "outputs": [
        {
          "output_type": "stream",
          "text": [
            "8\n"
          ],
          "name": "stdout"
        }
      ]
    },
    {
      "cell_type": "code",
      "metadata": {
        "id": "RMn0q8T6E9FM",
        "colab_type": "code",
        "colab": {}
      },
      "source": [
        ""
      ],
      "execution_count": null,
      "outputs": []
    }
  ]
}