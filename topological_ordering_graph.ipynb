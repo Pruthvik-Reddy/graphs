{
  "nbformat": 4,
  "nbformat_minor": 0,
  "metadata": {
    "colab": {
      "name": "topological_ordering_graph.ipynb",
      "provenance": [],
      "authorship_tag": "ABX9TyOqhQee1Ocsii72NLPq/RKm",
      "include_colab_link": true
    },
    "kernelspec": {
      "name": "python3",
      "display_name": "Python 3"
    }
  },
  "cells": [
    {
      "cell_type": "markdown",
      "metadata": {
        "id": "view-in-github",
        "colab_type": "text"
      },
      "source": [
        "<a href=\"https://colab.research.google.com/github/Pruthvik-Reddy/graphs/blob/master/topological_ordering_graph.ipynb\" target=\"_parent\"><img src=\"https://colab.research.google.com/assets/colab-badge.svg\" alt=\"Open In Colab\"/></a>"
      ]
    },
    {
      "cell_type": "code",
      "metadata": {
        "id": "8lLcgaeSQv6A",
        "colab_type": "code",
        "colab": {}
      },
      "source": [
        "def topological_sort(graph):\n",
        "    # graph is a dictionary:\n",
        "    #   key: a node\n",
        "    # value: a set of adjacent neighboring nodes\n",
        "\n",
        "    # construct a dictionary mapping nodes to their\n",
        "    # indegrees\n",
        "    indegrees = {node : 0 for node in graph}\n",
        "    for node in graph:\n",
        "        for neighbor in graph[node]:\n",
        "            indegrees[neighbor] += 1\n",
        "\n",
        "    # track nodes with no incoming edges\n",
        "    nodes_with_no_incoming_edges = []\n",
        "    for node in graph:\n",
        "        if indegrees[node] == 0:\n",
        "            nodes_with_no_incoming_edges.append(node)\n",
        "\n",
        "    # initially, no nodes in our ordering\n",
        "    topological_ordering = [] \n",
        "                \n",
        "    # as long as there are nodes with no incoming edges\n",
        "    # that can be added to the ordering \n",
        "    while len(nodes_with_no_incoming_edges) > 0:\n",
        "\n",
        "        # add one of those nodes to the ordering\n",
        "        node = nodes_with_no_incoming_edges.pop()\n",
        "        topological_ordering.append(node)\n",
        "    \n",
        "        # decrement the indegree of that node's neighbors\n",
        "        for neighbor in graph[node]:\n",
        "            indegrees[neighbor] -= 1\n",
        "            if indegrees[neighbor] == 0:\n",
        "                nodes_with_no_incoming_edges.append(neighbor)\n",
        "\n",
        "    # we've run out of nodes with no incoming edges\n",
        "    # did we add all the nodes or find a cycle?\n",
        "    if len(topological_ordering) == len(graph):\n",
        "        return topological_ordering  # got them all\n",
        "    else:\n",
        "        raise Exception(\"Graph has a cycle! No topological ordering exists.\")\n"
      ],
      "execution_count": 2,
      "outputs": []
    },
    {
      "cell_type": "code",
      "metadata": {
        "id": "reSwuw1PRDyi",
        "colab_type": "code",
        "colab": {}
      },
      "source": [
        ""
      ],
      "execution_count": null,
      "outputs": []
    }
  ]
}