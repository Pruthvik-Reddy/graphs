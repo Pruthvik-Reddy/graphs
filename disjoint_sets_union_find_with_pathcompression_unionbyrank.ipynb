{
  "nbformat": 4,
  "nbformat_minor": 0,
  "metadata": {
    "colab": {
      "name": "disjoint_sets_union_find-with_pathcompression_unionbyrank.ipynb",
      "provenance": [],
      "collapsed_sections": [],
      "authorship_tag": "ABX9TyOHyKEPzzZyFSVB8rPXgmqm",
      "include_colab_link": true
    },
    "kernelspec": {
      "name": "python3",
      "display_name": "Python 3"
    }
  },
  "cells": [
    {
      "cell_type": "markdown",
      "metadata": {
        "id": "view-in-github",
        "colab_type": "text"
      },
      "source": [
        "<a href=\"https://colab.research.google.com/github/Pruthvik-Reddy/graphs/blob/master/disjoint_sets_union_find_with_pathcompression_unionbyrank.ipynb\" target=\"_parent\"><img src=\"https://colab.research.google.com/assets/colab-badge.svg\" alt=\"Open In Colab\"/></a>"
      ]
    },
    {
      "cell_type": "code",
      "metadata": {
        "id": "1utTJNzgwTV5",
        "colab_type": "code",
        "colab": {}
      },
      "source": [
        "class Node:\n",
        "  def __init__(self,data,parent=None,rank=0):\n",
        "    self.data=data\n",
        "    self.parent=parent\n",
        "    self.rank=rank\n",
        "\n",
        "class disjoint_sets:\n",
        "  def __init__(self):\n",
        "    self.map={}\n",
        "  def make_set(self,data):\n",
        "    node=Node(data)\n",
        "    node.parent=node\n",
        "    self.map[data]=node\n",
        "  def union(self,data1,data2):\n",
        "    node1=self.map[data1]\n",
        "    node2=self.map[data2]\n",
        "    parent1=self.find_set_util(node1)\n",
        "    parent2=self.find_set_util(node2)\n",
        "\n",
        "    if parent1.data==parent2.data:\n",
        "      return\n",
        "    if parent1.rank >= parent2.rank:\n",
        "      if parent1.rank == parent2.rank:\n",
        "        parent1.rank = parent1.rank + 1\n",
        "      parent2.parent = parent1\n",
        "    else:\n",
        "       parent1.parent = parent2\n",
        "  \n",
        "  def find_set(self,data):\n",
        "    return self.find_set_util(self.map[data])\n",
        "\n",
        "#find_set_util also implements path compression along with finding node\n",
        "#the function also implements path compression\n",
        "  def find_set_util(self,node):\n",
        "    parent_node=node.parent\n",
        "    if parent_node==node:\n",
        "      return parent_node\n",
        "    return self.find_set_util(parent_node)\n",
        "  \n",
        "\n"
      ],
      "execution_count": 10,
      "outputs": []
    },
    {
      "cell_type": "code",
      "metadata": {
        "id": "tU5zz8_6yHMM",
        "colab_type": "code",
        "colab": {
          "base_uri": "https://localhost:8080/",
          "height": 140
        },
        "outputId": "fed3b610-046a-4511-ab6f-28b652925bc8"
      },
      "source": [
        "ds=disjoint_sets()\n",
        "ds.make_set(1)\n",
        "ds.make_set(2)\n",
        "ds.make_set(3)\n",
        "ds.make_set(4)\n",
        "ds.make_set(5)\n",
        "ds.make_set(6)\n",
        "ds.make_set(7)\n",
        "ds.union(1,2)\n",
        "ds.union(2,3)\n",
        "ds.union(4,5)\n",
        "ds.union(6,7)\n",
        "ds.union(5,6)\n",
        "ds.union(3,7)\n",
        "for i in range(1,8):\n",
        "  print(ds.find_set(i))\n"
      ],
      "execution_count": 12,
      "outputs": [
        {
          "output_type": "stream",
          "text": [
            "<__main__.Node object at 0x7f592f1cbb70>\n",
            "<__main__.Node object at 0x7f592f1cbb70>\n",
            "<__main__.Node object at 0x7f592f1cbb70>\n",
            "<__main__.Node object at 0x7f592f1cbb70>\n",
            "<__main__.Node object at 0x7f592f1cbb70>\n",
            "<__main__.Node object at 0x7f592f1cbb70>\n",
            "<__main__.Node object at 0x7f592f1cbb70>\n"
          ],
          "name": "stdout"
        }
      ]
    },
    {
      "cell_type": "code",
      "metadata": {
        "id": "XRbDD1iQyY-Z",
        "colab_type": "code",
        "colab": {}
      },
      "source": [
        ""
      ],
      "execution_count": null,
      "outputs": []
    }
  ]
}