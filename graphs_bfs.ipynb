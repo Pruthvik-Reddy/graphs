{
  "nbformat": 4,
  "nbformat_minor": 0,
  "metadata": {
    "colab": {
      "name": "graphs_bfs.ipynb",
      "provenance": [],
      "authorship_tag": "ABX9TyOwkQmAnm/VdHBmCWPcwaGg",
      "include_colab_link": true
    },
    "kernelspec": {
      "name": "python3",
      "display_name": "Python 3"
    }
  },
  "cells": [
    {
      "cell_type": "markdown",
      "metadata": {
        "id": "view-in-github",
        "colab_type": "text"
      },
      "source": [
        "<a href=\"https://colab.research.google.com/github/Pruthvik-Reddy/graphs/blob/master/graphs_bfs.ipynb\" target=\"_parent\"><img src=\"https://colab.research.google.com/assets/colab-badge.svg\" alt=\"Open In Colab\"/></a>"
      ]
    },
    {
      "cell_type": "code",
      "metadata": {
        "id": "uw35angI3uwF",
        "colab_type": "code",
        "colab": {
          "base_uri": "https://localhost:8080/",
          "height": 52
        },
        "outputId": "feba4369-26c1-4250-c083-dea64a5eec5c"
      },
      "source": [
        "from collections import defaultdict \n",
        "  \n",
        "# This class represents a directed graph \n",
        "# using adjacency list representation \n",
        "class Graph: \n",
        "  \n",
        "    def __init__(self): \n",
        "  \n",
        "        self.graph = defaultdict(list) \n",
        "  \n",
        "    def addEdge(self,u,v): \n",
        "        self.graph[u].append(v) \n",
        "  \n",
        "    def BFS(self, s): \n",
        "  \n",
        "        visited = [False] * (len(self.graph)) \n",
        "  \n",
        "        queue = [] \n",
        "  \n",
        "        queue.append(s) \n",
        "        visited[s] = True\n",
        "  \n",
        "        while queue: \n",
        "  \n",
        "            s = queue.pop(0) \n",
        "            print (s, end = \" \") \n",
        "  \n",
        "            for i in self.graph[s]: \n",
        "                if visited[i] == False: \n",
        "                    queue.append(i) \n",
        "                    visited[i] = True\n",
        "  \n",
        "g = Graph() \n",
        "g.addEdge(0, 1) \n",
        "g.addEdge(0, 2) \n",
        "g.addEdge(1, 2) \n",
        "g.addEdge(2, 0) \n",
        "g.addEdge(2, 3) \n",
        "g.addEdge(3, 3) \n",
        "  \n",
        "print (\"Following is Breadth First Traversal\"\n",
        "                  \" (starting from vertex 2)\") \n",
        "g.BFS(2) \n",
        "  "
      ],
      "execution_count": 2,
      "outputs": [
        {
          "output_type": "stream",
          "text": [
            "Following is Breadth First Traversal (starting from vertex 2)\n",
            "2 0 3 1 "
          ],
          "name": "stdout"
        }
      ]
    },
    {
      "cell_type": "code",
      "metadata": {
        "id": "C7CSNcKZ4tLI",
        "colab_type": "code",
        "colab": {}
      },
      "source": [
        ""
      ],
      "execution_count": null,
      "outputs": []
    }
  ]
}