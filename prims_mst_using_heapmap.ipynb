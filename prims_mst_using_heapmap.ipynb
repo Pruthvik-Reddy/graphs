{
  "nbformat": 4,
  "nbformat_minor": 0,
  "metadata": {
    "colab": {
      "name": "prims_mst_using_heapmap.ipynb",
      "provenance": [],
      "authorship_tag": "ABX9TyP2YzfgWvWIzphIg6rgwjgZ",
      "include_colab_link": true
    },
    "kernelspec": {
      "name": "python3",
      "display_name": "Python 3"
    }
  },
  "cells": [
    {
      "cell_type": "markdown",
      "metadata": {
        "id": "view-in-github",
        "colab_type": "text"
      },
      "source": [
        "<a href=\"https://colab.research.google.com/github/Pruthvik-Reddy/graphs/blob/master/prims_mst_using_heapmap.ipynb\" target=\"_parent\"><img src=\"https://colab.research.google.com/assets/colab-badge.svg\" alt=\"Open In Colab\"/></a>"
      ]
    },
    {
      "cell_type": "code",
      "metadata": {
        "id": "_zRWTDq0KuiM",
        "colab_type": "code",
        "colab": {}
      },
      "source": [
        "from collections import defaultdict\n",
        "from heapq import heappush,heappop,heapify\n",
        "class Graph:\n",
        "    def __init__(self):\n",
        "        self.graph=defaultdict(dict)\n",
        "    def add_edge(self,u,v,w):\n",
        "        self.graph[u][v]=w\n",
        "        #since its undirected graph,include the backward edge also\n",
        "        self.graph[v][u]=w\n",
        "    def prims(self,start):\n",
        "        dist={}\n",
        "        heap_arr=[]\n",
        "        heappush(heap_arr,(0,start))\n",
        "        while(heap_arr):\n",
        "            curr_weight,curr_vertex=heappop(heap_arr)\n",
        "            if curr_vertex not in dist:\n",
        "                dist[curr_vertex]=curr_weight\n",
        "                for neighbour,weight in self.graph[curr_vertex].items():\n",
        "                    if neighbour not in dist:\n",
        "                        heappush(heap_arr,[weight,neighbour])\n",
        "        sum=0\n",
        "        for i in dist.values():\n",
        "            sum+=i\n",
        "        return sum\n",
        "def prims(n, edges, start):\n",
        "    g=Graph()\n",
        "    for i in edges:\n",
        "        g.add_edge(i[0],i[1],i[2])\n",
        "    #print(g.graph)\n",
        "    start=edges[0][0]\n",
        "    return(g.prims(start))\n"
      ],
      "execution_count": 1,
      "outputs": []
    }
  ]
}