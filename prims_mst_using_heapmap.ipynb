{
  "nbformat": 4,
  "nbformat_minor": 0,
  "metadata": {
    "colab": {
      "name": "prims_mst_using_heapmap.ipynb",
      "provenance": [],
      "authorship_tag": "ABX9TyOusF2zcc8A7NXv8oLcdaya",
      "include_colab_link": true
    },
    "kernelspec": {
      "name": "python3",
      "display_name": "Python 3"
    }
  },
  "cells": [
    {
      "cell_type": "markdown",
      "metadata": {
        "id": "view-in-github",
        "colab_type": "text"
      },
      "source": [
        "<a href=\"https://colab.research.google.com/github/Pruthvik-Reddy/graphs/blob/master/prims_mst_using_heapmap.ipynb\" target=\"_parent\"><img src=\"https://colab.research.google.com/assets/colab-badge.svg\" alt=\"Open In Colab\"/></a>"
      ]
    },
    {
      "cell_type": "code",
      "metadata": {
        "id": "_zRWTDq0KuiM",
        "colab_type": "code",
        "colab": {}
      },
      "source": [
        "from collections import defaultdict\n",
        "import heapq\n",
        "class Solution:\n",
        "    def minimumCost(self, N: int, connections: List[List[int]]) -> int:\n",
        "        graph = defaultdict(list)\n",
        "        start = connections[0][0]\n",
        "\t\t# Add all nodes because it's biderctional\n",
        "        for src, dst, wt in connections:\n",
        "            graph[src].append((dst, wt))\n",
        "            graph[dst].append((src, wt))\n",
        "         \n",
        "        #Storing the data in parent Directory\n",
        "        dist = {}\n",
        "\t\t# Using heap to find min wt\n",
        "        heap = [(0, start)]\n",
        "        while heap:\n",
        "            ddist, node = heapq.heappop(heap)\n",
        "            if node in dist:\n",
        "                continue\n",
        "            dist[node] = ddist\n",
        "            for neighbor, d in graph[node]:\n",
        "                if neighbor not in dist:\n",
        "                    heapq.heappush (heap, (d, neighbor))\n",
        "        return sum(dist.values()) if len(dist) == N else -1"
      ],
      "execution_count": null,
      "outputs": []
    },
    {
      "cell_type": "code",
      "metadata": {
        "id": "jbWEGzU0K9UQ",
        "colab_type": "code",
        "colab": {}
      },
      "source": [
        ""
      ],
      "execution_count": 23,
      "outputs": []
    },
    {
      "cell_type": "code",
      "metadata": {
        "id": "qNW-cfX3LAZl",
        "colab_type": "code",
        "colab": {}
      },
      "source": [
        ""
      ],
      "execution_count": null,
      "outputs": []
    }
  ]
}