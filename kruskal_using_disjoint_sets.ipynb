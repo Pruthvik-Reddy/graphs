{
  "nbformat": 4,
  "nbformat_minor": 0,
  "metadata": {
    "colab": {
      "name": "kruskal_using_disjoint_sets.ipynb",
      "provenance": [],
      "authorship_tag": "ABX9TyNPLhsdux4fvg+YRJ/anbct",
      "include_colab_link": true
    },
    "kernelspec": {
      "name": "python3",
      "display_name": "Python 3"
    }
  },
  "cells": [
    {
      "cell_type": "markdown",
      "metadata": {
        "id": "view-in-github",
        "colab_type": "text"
      },
      "source": [
        "<a href=\"https://colab.research.google.com/github/Pruthvik-Reddy/graphs/blob/master/kruskal_using_disjoint_sets.ipynb\" target=\"_parent\"><img src=\"https://colab.research.google.com/assets/colab-badge.svg\" alt=\"Open In Colab\"/></a>"
      ]
    },
    {
      "cell_type": "code",
      "metadata": {
        "id": "NhM6viCDUALV",
        "colab_type": "code",
        "colab": {}
      },
      "source": [
        "import math\n",
        "import os\n",
        "import random\n",
        "import re\n",
        "import sys\n",
        "\n",
        "class Node:\n",
        "  def __init__(self,data,parent=None,rank=0):\n",
        "    self.data=data\n",
        "    self.parent=parent\n",
        "    self.rank=rank\n",
        "\n",
        "class disjoint_sets:\n",
        "  def __init__(self):\n",
        "    self.map={}\n",
        "  def make_set(self,data):\n",
        "    node=Node(data)\n",
        "    node.parent=node\n",
        "    self.map[data]=node\n",
        "  def union(self,data1,data2):\n",
        "    node1=self.map[data1]\n",
        "    node2=self.map[data2]\n",
        "    parent1=self.find_set_util(node1)\n",
        "    parent2=self.find_set_util(node2)\n",
        "\n",
        "    if parent1.data==parent2.data:\n",
        "      return False\n",
        "    if parent1.rank >= parent2.rank:\n",
        "      if parent1.rank == parent2.rank:\n",
        "        parent1.rank = parent1.rank + 1\n",
        "      parent2.parent = parent1\n",
        "    else:\n",
        "       parent1.parent = parent2\n",
        "    return True\n",
        "  def find_set(self,data):\n",
        "    return self.find_set_util(self.map[data])\n",
        "\n",
        "#find_set_util also implements path compression along with finding node\n",
        "#the function also implements path compression\n",
        "  def find_set_util(self,node):\n",
        "    parent_node=node.parent\n",
        "    if parent_node==node:\n",
        "      return parent_node\n",
        "    return self.find_set_util(parent_node)\n",
        "  \n",
        "\n",
        "#Kruskals algorithm is used to find minimum spanning tree in undirected graph\n",
        "#g_from is a list containing from vertices\n",
        "#g_to is a list containing to vertices\n",
        "\n",
        "#Sorting the edges is important\n",
        "\n",
        "def kruskals(g_nodes, g_from, g_to, g_weight):\n",
        "    ds=disjoint_sets()\n",
        "    all_vertices=[]\n",
        "    for i in g_from:\n",
        "        all_vertices.append(i)\n",
        "    for i in g_to:\n",
        "        if i not in all_vertices:\n",
        "            all_vertices.append(i)\n",
        "    for i in range(len(all_vertices)):\n",
        "        ds.make_set(all_vertices[i])\n",
        "    #the following sorting of edges is important\n",
        "    edges = [(g_from[i], g_to[i], g_weight[i]) for i in range(len(g_from))]\n",
        "    edges.sort(key=lambda e: e[2])\n",
        "    \n",
        "    total=0\n",
        "    for i in range(len(g_from)):\n",
        "        check=ds.union(edges[i][0],edges[i][1])\n",
        "        if check==True:\n",
        "            total+=edges[i][2]\n",
        "    return total\n"
      ],
      "execution_count": 1,
      "outputs": []
    },
    {
      "cell_type": "code",
      "metadata": {
        "id": "jC1heW3gUHSi",
        "colab_type": "code",
        "colab": {}
      },
      "source": [
        ""
      ],
      "execution_count": null,
      "outputs": []
    }
  ]
}