{
  "nbformat": 4,
  "nbformat_minor": 0,
  "metadata": {
    "colab": {
      "name": "cycle_directed_graph.ipynb",
      "provenance": [],
      "authorship_tag": "ABX9TyOEye8xk+CixkeBCNbPfVPz",
      "include_colab_link": true
    },
    "kernelspec": {
      "name": "python3",
      "display_name": "Python 3"
    }
  },
  "cells": [
    {
      "cell_type": "markdown",
      "metadata": {
        "id": "view-in-github",
        "colab_type": "text"
      },
      "source": [
        "<a href=\"https://colab.research.google.com/github/Pruthvik-Reddy/graphs/blob/master/cycle_directed_graph.ipynb\" target=\"_parent\"><img src=\"https://colab.research.google.com/assets/colab-badge.svg\" alt=\"Open In Colab\"/></a>"
      ]
    },
    {
      "cell_type": "code",
      "metadata": {
        "id": "LIuX8EAFyXKE",
        "colab_type": "code",
        "colab": {}
      },
      "source": [
        "from collections import defaultdict\n",
        "class Graph:\n",
        "    def __init__(self):\n",
        "      self.graph=defaultdict(list)\n",
        "    def add_edge(self,u,v):\n",
        "      self.graph[u].apend(v)\n",
        "\n",
        "\n",
        "    \n",
        "    def directedcycle(self):\n",
        "      \n",
        "        \n",
        "      white=set()\n",
        "      grey=set()\n",
        "      black=set()\n",
        "      for i in range(len(self.graph)):\n",
        "        white.add(i)\n",
        "      while(len(white)>0):\n",
        "        current=next(iter(white))\n",
        "            \n",
        "        if(self.dfs_util(current,white,grey,black)==True):\n",
        "            return True\n",
        "                              \n",
        "                \n",
        "            \n",
        "            \n",
        "    def dfs_util(self,current,white,grey,black):\n",
        "        white.remove(current)\n",
        "        grey.add(current)\n",
        "        for neighbour in self.graph[current]:\n",
        "            if neighbour in black:\n",
        "                continue\n",
        "            elif neighbour in grey:\n",
        "                return True\n",
        "            elif self.dfs_util(neighbour,white,grey,black)==True:\n",
        "                return True\n",
        "        grey.remove(current)\n",
        "        black.add(current)\n",
        "        return False\n",
        "        \n",
        "        "
      ],
      "execution_count": 1,
      "outputs": []
    },
    {
      "cell_type": "code",
      "metadata": {
        "id": "DRwMsBslzTqV",
        "colab_type": "code",
        "colab": {}
      },
      "source": [
        ""
      ],
      "execution_count": null,
      "outputs": []
    }
  ]
}